{
  "nbformat": 4,
  "nbformat_minor": 0,
  "metadata": {
    "colab": {
      "name": "GPT2_doctors_review_eval.ipynb",
      "provenance": [],
      "collapsed_sections": [],
      "toc_visible": true
    },
    "kernelspec": {
      "display_name": "Python 3",
      "name": "python3"
    },
    "language_info": {
      "name": "python"
    },
    "accelerator": "GPU"
  },
  "cells": [
    {
      "cell_type": "markdown",
      "metadata": {
        "id": "i1dk9OkUsnZc"
      },
      "source": [
        "# Generating german doctor reviews with a GPT-2 model\n",
        "## Fine tuning of a pretrained **Hugging Face** transfomer decoder\n",
        "In this notebook we will be using a GPT-2 mdoel that was fine-tuned to synthesize doctor reviews mimiking actual patients' text comments.\n",
        "\n",
        "A detailed description of the **German language reviews of doctors by patients 2019** dataset can be found [here](https://data.world/mc51/german-language-reviews-of-doctors-by-patients)\n",
        "\n",
        "\n",
        "For this exercise, we will use the [**Hugging Face**](https://huggingface.co/) implementation of transformers for Tensorflow 2.0. Transformers provides a general architecture implementation for several state of the art models in the natural language domain.\n",
        "\n",
        "NOTE: This notebook and its implementation is heavily influenced by the data-drive [blog post](https://data-dive.com/finetune-german-gpt2-on-tpu-transformers-tensorflow-for-text-generation-of-reviews)"
      ]
    },
    {
      "cell_type": "code",
      "metadata": {
        "id": "DkqTxWLHouAC",
        "outputId": "ee3bfd3f-cc77-49cd-9b58-e6c0476a9525",
        "colab": {
          "base_uri": "https://localhost:8080/"
        }
      },
      "source": [
        "!pip install -U transformers==4.9.2"
      ],
      "execution_count": 1,
      "outputs": [
        {
          "output_type": "stream",
          "name": "stdout",
          "text": [
            "Collecting transformers==4.9.2\n",
            "  Downloading transformers-4.9.2-py3-none-any.whl (2.6 MB)\n",
            "\u001b[K     |████████████████████████████████| 2.6 MB 4.3 MB/s \n",
            "\u001b[?25hRequirement already satisfied: regex!=2019.12.17 in /usr/local/lib/python3.7/dist-packages (from transformers==4.9.2) (2019.12.20)\n",
            "Requirement already satisfied: requests in /usr/local/lib/python3.7/dist-packages (from transformers==4.9.2) (2.23.0)\n",
            "Requirement already satisfied: importlib-metadata in /usr/local/lib/python3.7/dist-packages (from transformers==4.9.2) (4.6.4)\n",
            "Collecting sacremoses\n",
            "  Downloading sacremoses-0.0.45-py3-none-any.whl (895 kB)\n",
            "\u001b[K     |████████████████████████████████| 895 kB 31.8 MB/s \n",
            "\u001b[?25hRequirement already satisfied: tqdm>=4.27 in /usr/local/lib/python3.7/dist-packages (from transformers==4.9.2) (4.62.0)\n",
            "Collecting pyyaml>=5.1\n",
            "  Downloading PyYAML-5.4.1-cp37-cp37m-manylinux1_x86_64.whl (636 kB)\n",
            "\u001b[K     |████████████████████████████████| 636 kB 33.4 MB/s \n",
            "\u001b[?25hRequirement already satisfied: packaging in /usr/local/lib/python3.7/dist-packages (from transformers==4.9.2) (21.0)\n",
            "Requirement already satisfied: numpy>=1.17 in /usr/local/lib/python3.7/dist-packages (from transformers==4.9.2) (1.19.5)\n",
            "Collecting tokenizers<0.11,>=0.10.1\n",
            "  Downloading tokenizers-0.10.3-cp37-cp37m-manylinux_2_5_x86_64.manylinux1_x86_64.manylinux_2_12_x86_64.manylinux2010_x86_64.whl (3.3 MB)\n",
            "\u001b[K     |████████████████████████████████| 3.3 MB 34.3 MB/s \n",
            "\u001b[?25hRequirement already satisfied: filelock in /usr/local/lib/python3.7/dist-packages (from transformers==4.9.2) (3.0.12)\n",
            "Collecting huggingface-hub==0.0.12\n",
            "  Downloading huggingface_hub-0.0.12-py3-none-any.whl (37 kB)\n",
            "Requirement already satisfied: typing-extensions in /usr/local/lib/python3.7/dist-packages (from huggingface-hub==0.0.12->transformers==4.9.2) (3.7.4.3)\n",
            "Requirement already satisfied: pyparsing>=2.0.2 in /usr/local/lib/python3.7/dist-packages (from packaging->transformers==4.9.2) (2.4.7)\n",
            "Requirement already satisfied: zipp>=0.5 in /usr/local/lib/python3.7/dist-packages (from importlib-metadata->transformers==4.9.2) (3.5.0)\n",
            "Requirement already satisfied: chardet<4,>=3.0.2 in /usr/local/lib/python3.7/dist-packages (from requests->transformers==4.9.2) (3.0.4)\n",
            "Requirement already satisfied: urllib3!=1.25.0,!=1.25.1,<1.26,>=1.21.1 in /usr/local/lib/python3.7/dist-packages (from requests->transformers==4.9.2) (1.24.3)\n",
            "Requirement already satisfied: certifi>=2017.4.17 in /usr/local/lib/python3.7/dist-packages (from requests->transformers==4.9.2) (2021.5.30)\n",
            "Requirement already satisfied: idna<3,>=2.5 in /usr/local/lib/python3.7/dist-packages (from requests->transformers==4.9.2) (2.10)\n",
            "Requirement already satisfied: click in /usr/local/lib/python3.7/dist-packages (from sacremoses->transformers==4.9.2) (7.1.2)\n",
            "Requirement already satisfied: six in /usr/local/lib/python3.7/dist-packages (from sacremoses->transformers==4.9.2) (1.15.0)\n",
            "Requirement already satisfied: joblib in /usr/local/lib/python3.7/dist-packages (from sacremoses->transformers==4.9.2) (1.0.1)\n",
            "Installing collected packages: tokenizers, sacremoses, pyyaml, huggingface-hub, transformers\n",
            "  Attempting uninstall: pyyaml\n",
            "    Found existing installation: PyYAML 3.13\n",
            "    Uninstalling PyYAML-3.13:\n",
            "      Successfully uninstalled PyYAML-3.13\n",
            "Successfully installed huggingface-hub-0.0.12 pyyaml-5.4.1 sacremoses-0.0.45 tokenizers-0.10.3 transformers-4.9.2\n"
          ]
        }
      ]
    },
    {
      "cell_type": "code",
      "metadata": {
        "id": "s_fTsD6Lp49I"
      },
      "source": [
        "import pandas as pd\n",
        "\n",
        "from transformers import AutoTokenizer, TFGPT2LMHeadModel\n",
        "\n",
        "pd.options.display.max_colwidth = 600\n",
        "pd.options.display.max_rows = 400"
      ],
      "execution_count": 2,
      "outputs": []
    },
    {
      "cell_type": "markdown",
      "metadata": {
        "id": "EoNm6fYGtFv6"
      },
      "source": [
        "## Setting up the decoder model\n",
        "HuggingFace's transfomer library allows for conviniently loading  pre-configured text tokenizers and pre-trained models from local resources.\n",
        "\n",
        "Here we will be using a tokenizer and a GPT-2 model that was pre-trained on the doctor review dataset\n"
      ]
    },
    {
      "cell_type": "code",
      "metadata": {
        "id": "aLAmgz3Rr6_W",
        "outputId": "1621a748-bf90-4bdf-da8d-4a16545c007d",
        "colab": {
          "base_uri": "https://localhost:8080/"
        }
      },
      "source": [
        "!wget -O gpt2_doctorreview_finetuned.zip https://github.com/AdvancedNLP/decoder/raw/main/gpt2_doctorreview_finetuned.zip\n",
        "!unzip gpt2_doctorreview_finetuned.zip"
      ],
      "execution_count": 3,
      "outputs": [
        {
          "output_type": "stream",
          "name": "stdout",
          "text": [
            "--2021-09-17 14:56:36--  https://github.com/AdvancedNLP/decoder/raw/main/gpt2_doctorreview_finetuned.zip\n",
            "Resolving github.com (github.com)... 52.192.72.89\n",
            "Connecting to github.com (github.com)|52.192.72.89|:443... connected.\n",
            "HTTP request sent, awaiting response... 302 Found\n",
            "Location: https://media.githubusercontent.com/media/AdvancedNLP/decoder/main/gpt2_doctorreview_finetuned.zip [following]\n",
            "--2021-09-17 14:56:36--  https://media.githubusercontent.com/media/AdvancedNLP/decoder/main/gpt2_doctorreview_finetuned.zip\n",
            "Resolving media.githubusercontent.com (media.githubusercontent.com)... 185.199.109.133, 185.199.111.133, 185.199.110.133, ...\n",
            "Connecting to media.githubusercontent.com (media.githubusercontent.com)|185.199.109.133|:443... connected.\n",
            "HTTP request sent, awaiting response... 200 OK\n",
            "Length: 462732204 (441M) [application/zip]\n",
            "Saving to: ‘gpt2_doctorreview_finetuned.zip’\n",
            "\n",
            "gpt2_doctorreview_f 100%[===================>] 441.29M   159MB/s    in 2.8s    \n",
            "\n",
            "2021-09-17 14:57:07 (159 MB/s) - ‘gpt2_doctorreview_finetuned.zip’ saved [462732204/462732204]\n",
            "\n",
            "Archive:  gpt2_doctorreview_finetuned.zip\n",
            "   creating: gpt2_doctorreview_finetuned/\n",
            "  inflating: gpt2_doctorreview_finetuned/.DS_Store  \n",
            "  inflating: __MACOSX/gpt2_doctorreview_finetuned/._.DS_Store  \n",
            "   creating: gpt2_doctorreview_finetuned/tokenizer/\n",
            "   creating: gpt2_doctorreview_finetuned/model/\n",
            "  inflating: gpt2_doctorreview_finetuned/tokenizer/added_tokens.json  \n",
            "  inflating: __MACOSX/gpt2_doctorreview_finetuned/tokenizer/._added_tokens.json  \n",
            "  inflating: gpt2_doctorreview_finetuned/tokenizer/tokenizer_config.json  \n",
            "  inflating: __MACOSX/gpt2_doctorreview_finetuned/tokenizer/._tokenizer_config.json  \n",
            "  inflating: gpt2_doctorreview_finetuned/tokenizer/special_tokens_map.json  \n",
            "  inflating: __MACOSX/gpt2_doctorreview_finetuned/tokenizer/._special_tokens_map.json  \n",
            "  inflating: gpt2_doctorreview_finetuned/tokenizer/tokenizer.json  \n",
            "  inflating: __MACOSX/gpt2_doctorreview_finetuned/tokenizer/._tokenizer.json  \n",
            "  inflating: gpt2_doctorreview_finetuned/tokenizer/merges.txt  \n",
            "  inflating: __MACOSX/gpt2_doctorreview_finetuned/tokenizer/._merges.txt  \n",
            "  inflating: gpt2_doctorreview_finetuned/tokenizer/vocab.json  \n",
            "  inflating: __MACOSX/gpt2_doctorreview_finetuned/tokenizer/._vocab.json  \n",
            "  inflating: gpt2_doctorreview_finetuned/model/config.json  \n",
            "  inflating: __MACOSX/gpt2_doctorreview_finetuned/model/._config.json  \n",
            "  inflating: gpt2_doctorreview_finetuned/model/tf_model.h5  \n",
            "  inflating: __MACOSX/gpt2_doctorreview_finetuned/model/._tf_model.h5  \n"
          ]
        }
      ]
    },
    {
      "cell_type": "code",
      "metadata": {
        "id": "TZWMXIHmsDzg",
        "outputId": "24da73f3-2556-425d-f930-de05fb975f37",
        "colab": {
          "base_uri": "https://localhost:8080/"
        }
      },
      "source": [
        "tokenizer = AutoTokenizer.from_pretrained('gpt2_doctorreview_finetuned/tokenizer')\n",
        "model = TFGPT2LMHeadModel.from_pretrained('gpt2_doctorreview_finetuned/model')"
      ],
      "execution_count": 4,
      "outputs": [
        {
          "output_type": "stream",
          "name": "stderr",
          "text": [
            "All model checkpoint layers were used when initializing TFGPT2LMHeadModel.\n",
            "\n",
            "All the layers of TFGPT2LMHeadModel were initialized from the model checkpoint at gpt2_doctorreview_finetuned/model.\n",
            "If your task is similar to the task the model of the checkpoint was trained on, you can already use TFGPT2LMHeadModel for predictions without further training.\n"
          ]
        }
      ]
    },
    {
      "cell_type": "markdown",
      "metadata": {
        "id": "Xp158R8YyP5V"
      },
      "source": [
        "## Generating doctor reviews\n",
        "The model has been conditioned to be able to control if positive or negative reviews should be generated. \n",
        "\n",
        "As an auto-regressive model the sequence is generated by building up from the passed input sequences. We can use this to control the polarity of the review by passing either the token for positive or for negative reviews"
      ]
    },
    {
      "cell_type": "code",
      "metadata": {
        "id": "D0TUof0E3NLP"
      },
      "source": [
        "POS_TOKEN = \"<|review_pos|>\"\n",
        "NEG_TOKEN = \"<|review_neg|>\""
      ],
      "execution_count": 5,
      "outputs": []
    },
    {
      "cell_type": "markdown",
      "metadata": {
        "id": "U-6EYxJDy6pq"
      },
      "source": [
        "#### High level pipeline\n",
        "The easiest way to to use the model is to use HuggingFaces transformer `pipeline` implementation to encapsulate the previously loaded `model` and `tokenizer`.\n",
        "\n",
        "The documentation for the [**pipeline**](https://huggingface.co/transformers/main_classes/pipelines.html) abstraction describes how to do the setup\n"
      ]
    },
    {
      "cell_type": "code",
      "metadata": {
        "id": "7xaNvHGq5u9F"
      },
      "source": [
        "from transformers import pipeline"
      ],
      "execution_count": 6,
      "outputs": []
    },
    {
      "cell_type": "code",
      "metadata": {
        "id": "2Oa024P7zzVy"
      },
      "source": [
        "##########################\n",
        "## YOUR CODE HERE START ##\n",
        "##########################\n",
        "# build a transformer-pipeline \n",
        "# to generate text using the \n",
        "# previously loaded model and tokenizer\n",
        "\n",
        "review_generator = pipeline(\n",
        "  \"text-generation\",\n",
        "  model=model,\n",
        "  tokenizer=tokenizer,\n",
        ")\n",
        "\n",
        "##########################\n",
        "## YOUR CODE HERE END   ##\n",
        "##########################"
      ],
      "execution_count": 7,
      "outputs": []
    },
    {
      "cell_type": "code",
      "metadata": {
        "id": "dhj8_NG_ms2T",
        "outputId": "ff6a58c3-c0e8-4607-c45d-da8c726a9217",
        "colab": {
          "base_uri": "https://localhost:8080/",
          "height": 320
        }
      },
      "source": [
        "pos_generated_reviews = review_generator(POS_TOKEN, max_length=150, num_return_sequences=6)\n",
        "pd.DataFrame(pos_generated_reviews)"
      ],
      "execution_count": 8,
      "outputs": [
        {
          "output_type": "execute_result",
          "data": {
            "text/html": [
              "<div>\n",
              "<style scoped>\n",
              "    .dataframe tbody tr th:only-of-type {\n",
              "        vertical-align: middle;\n",
              "    }\n",
              "\n",
              "    .dataframe tbody tr th {\n",
              "        vertical-align: top;\n",
              "    }\n",
              "\n",
              "    .dataframe thead th {\n",
              "        text-align: right;\n",
              "    }\n",
              "</style>\n",
              "<table border=\"1\" class=\"dataframe\">\n",
              "  <thead>\n",
              "    <tr style=\"text-align: right;\">\n",
              "      <th></th>\n",
              "      <th>generated_text</th>\n",
              "    </tr>\n",
              "  </thead>\n",
              "  <tbody>\n",
              "    <tr>\n",
              "      <th>0</th>\n",
              "      <td>&lt;|review_pos|&gt; Freund an der Rezeption, obwohl die Praxis immer schon geschlossen hat und die Leute anrufe die nicht weg geschickt werden</td>\n",
              "    </tr>\n",
              "    <tr>\n",
              "      <th>1</th>\n",
              "      <td>&lt;|review_pos|&gt; Wir haben uns bei Fr. Dr. Jansen gut behandelt gefühlt.</td>\n",
              "    </tr>\n",
              "    <tr>\n",
              "      <th>2</th>\n",
              "      <td>&lt;|review_pos|&gt; Als Neupatientin wurde ich im Vorfeld nicht über den Ablauf der Untersuchung informiert. Die Ärztin nahm sich viel Zeit und hat mich über die Untersuchung und die Behandlungsempfehlung umfassend beraten. Ich würde mich jederzeit wieder in diese Praxis begeben. Das Team ist auch sehr freundlich.</td>\n",
              "    </tr>\n",
              "    <tr>\n",
              "      <th>3</th>\n",
              "      <td>&lt;|review_pos|&gt; Ich fühle mich in der Praxis und bei Zahnärzten immer sehr gut aufgehoben. Auch die Prophylaxebehandlung ist so angenehm wie es in den meisten Praxen passiert. Die Behandlung ist stets sehr professionell und kompetent. Sehr zu empfehlen!</td>\n",
              "    </tr>\n",
              "    <tr>\n",
              "      <th>4</th>\n",
              "      <td>&lt;|review_pos|&gt; Bin seit mehr als Jahren bei Hr. Eissa und bin immer noch vollsten zufrieden mit seiner Behandlung! Er nimmt sich viel Zeit ist sehr kompetent und man kann ihn nur weiterempfehlen</td>\n",
              "    </tr>\n",
              "    <tr>\n",
              "      <th>5</th>\n",
              "      <td>&lt;|review_pos|&gt; Ich konnte meine Angst durch die Hilfe von Hrn. Dr. Herdt nehmen. Der Zahnarzt nimmt Zeit, erklärt alles, fragt nach, hört sich die Bedürfnisse des Patienten an und erklärt ausführlich die notwendige Behandlungen. In dieser Praxis hat man einfach das Gefühl, daß man in wirklich guten Händen ist. Ein ganz herzliches Dankeschön an Hrn. Dr. Herdt für die hervorragende Behandlung und Betreuung.</td>\n",
              "    </tr>\n",
              "  </tbody>\n",
              "</table>\n",
              "</div>"
            ],
            "text/plain": [
              "                                                                                                                                                                                                                                                                                                                                                                                                             generated_text\n",
              "0                                                                                                                                                                                                                                                                                 <|review_pos|> Freund an der Rezeption, obwohl die Praxis immer schon geschlossen hat und die Leute anrufe die nicht weg geschickt werden\n",
              "1                                                                                                                                                                                                                                                                                                                                                    <|review_pos|> Wir haben uns bei Fr. Dr. Jansen gut behandelt gefühlt.\n",
              "2                                                                                                    <|review_pos|> Als Neupatientin wurde ich im Vorfeld nicht über den Ablauf der Untersuchung informiert. Die Ärztin nahm sich viel Zeit und hat mich über die Untersuchung und die Behandlungsempfehlung umfassend beraten. Ich würde mich jederzeit wieder in diese Praxis begeben. Das Team ist auch sehr freundlich.\n",
              "3                                                                                                                                                              <|review_pos|> Ich fühle mich in der Praxis und bei Zahnärzten immer sehr gut aufgehoben. Auch die Prophylaxebehandlung ist so angenehm wie es in den meisten Praxen passiert. Die Behandlung ist stets sehr professionell und kompetent. Sehr zu empfehlen!\n",
              "4                                                                                                                                                                                                                        <|review_pos|> Bin seit mehr als Jahren bei Hr. Eissa und bin immer noch vollsten zufrieden mit seiner Behandlung! Er nimmt sich viel Zeit ist sehr kompetent und man kann ihn nur weiterempfehlen\n",
              "5  <|review_pos|> Ich konnte meine Angst durch die Hilfe von Hrn. Dr. Herdt nehmen. Der Zahnarzt nimmt Zeit, erklärt alles, fragt nach, hört sich die Bedürfnisse des Patienten an und erklärt ausführlich die notwendige Behandlungen. In dieser Praxis hat man einfach das Gefühl, daß man in wirklich guten Händen ist. Ein ganz herzliches Dankeschön an Hrn. Dr. Herdt für die hervorragende Behandlung und Betreuung."
            ]
          },
          "metadata": {},
          "execution_count": 8
        }
      ]
    },
    {
      "cell_type": "code",
      "metadata": {
        "id": "vxN9_D_Nm3jT",
        "outputId": "fa83b998-3c96-48cd-cdaf-0a1595e899f8",
        "colab": {
          "base_uri": "https://localhost:8080/",
          "height": 473
        }
      },
      "source": [
        "neg_generated_reviews = review_generator(NEG_TOKEN, max_length=150, num_return_sequences=6)\n",
        "pd.DataFrame(neg_generated_reviews)"
      ],
      "execution_count": 9,
      "outputs": [
        {
          "output_type": "execute_result",
          "data": {
            "text/html": [
              "<div>\n",
              "<style scoped>\n",
              "    .dataframe tbody tr th:only-of-type {\n",
              "        vertical-align: middle;\n",
              "    }\n",
              "\n",
              "    .dataframe tbody tr th {\n",
              "        vertical-align: top;\n",
              "    }\n",
              "\n",
              "    .dataframe thead th {\n",
              "        text-align: right;\n",
              "    }\n",
              "</style>\n",
              "<table border=\"1\" class=\"dataframe\">\n",
              "  <thead>\n",
              "    <tr style=\"text-align: right;\">\n",
              "      <th></th>\n",
              "      <th>generated_text</th>\n",
              "    </tr>\n",
              "  </thead>\n",
              "  <tbody>\n",
              "    <tr>\n",
              "      <th>0</th>\n",
              "      <td>&lt;|review_neg|&gt; Leider wird es hier keine Notwendigkeit geben, auf die Patienten einzugehen und das in einer für den Patienten sehr unangenehmen Praxisumgebung. Sehr distanzierte Praxisführung. Leider nur Tage auf den Kontrolltermin gewartet, daher eine Wartezeit von Stunden. Dies trifft jedoch in den nachfolgenden Behandlungsräumen zu. Ich hatte das Gefühl, mir wurde unnötig teure Leistungen an der Rezeption empfohlen, die nichts mit der jeweiligen Behandlung zu tun haben. Die Diagnose stimmte bisher nicht.</td>\n",
              "    </tr>\n",
              "    <tr>\n",
              "      <th>1</th>\n",
              "      <td>&lt;|review_neg|&gt; Die Praxis ist sehr schön und modern eingerichtet. Nachdem ich im Behandlungszimmer platz nehmen musste, habe ich mir sofort die Praxis ausgesucht. Ich musste keine min warten bei anderen Ärzten. Ich bin dann bei Dr. Behle reingegangen und sie hat sich sehr wenig Zeit genommen, hat kaum bis kaum zugehört und hat mir dann eine falsche Behandlung angeboten. Außerdem habe ich die Behandlung abgebrochen und kam um ein paar Tage später wieder zu ihr, da sie einfach die anderen Termine hatte. Ich werde nur noch dahin gehen.</td>\n",
              "    </tr>\n",
              "    <tr>\n",
              "      <th>2</th>\n",
              "      <td>&lt;|review_neg|&gt; Ich war dort weil mein Allgemeinmediziner vor Monaten seine Praxis geschlossen hatte. Man hatte bei Frau Dr. Karabulut angefangen von ihrem Praxiskollegen an den Tag zu legen Sie ging nicht auf meine Beschwerden ein und versuchte die Untersuchung vorzunehmen. Dies war dann . Auf meine Fragen was denn nun das Thema sei sagte sie es sei alles in Ordnung nur zu dieser Person. Ich würde nicht noch einmal hingehen.</td>\n",
              "    </tr>\n",
              "    <tr>\n",
              "      <th>3</th>\n",
              "      <td>&lt;|review_neg|&gt; Dr. Bader machte auf mich einen kompetenten Eindruck ich hätte ihn darauf aufmerksam gemacht das er an einem Samstag zur Sprechstunde und um Uhr einen anderen Dienst hätte nehmen können. Auch nach einer Röntgenaufnahme, die wegen der Entzündung meines Armes nicht erfolgte, wurde nicht auf Beschwerden eingegangen und die Röntgenbilder wurden auch nicht gemacht. Mein Fazit Die Empfangsdame war etwas anderes als freundlich bis vor die Ärztin. Die Wartezeit war völlig in Ordnung aber trotz Termin über eine Stunde sind die Wartezeiten nicht zu ertragen.</td>\n",
              "    </tr>\n",
              "    <tr>\n",
              "      <th>4</th>\n",
              "      <td>&lt;|review_neg|&gt; Wir waren zur Vorsorgeuntersuchung da und das mit großem Abstand am frühen Morgen. Am Schluss hat die Assistenzärztin leider kein gutes und gesundes Auge und das auch noch auf eine Kontrolle. Das ging so dann los dass alles sehr schnell ging. Wir hatten ein Gespräch mit dem Arzt während der Untersuchung und das erste was am Telefon erfragte wie es ihm ging und warum er etwas gefunden hat. Die Untersuchung wurde mir von der Ärztin mitgeteilt, dann wird der Befund nicht wahrgenommen! Sie will nicht wissen, wie er denn von ihrem Arzt zu erwarten wäre und dann würde er die Mutte...</td>\n",
              "    </tr>\n",
              "    <tr>\n",
              "      <th>5</th>\n",
              "      <td>&lt;|review_neg|&gt; Der erste Versuch hat angefangen, aber Herr Dr. Lammertz war nicht besonders einfühlsam. Er war sehr arrogant, hat kein Interesse daran zu reden, sondern nur einfach rein aus dem Behandlungszimmer zu fragen. Er wirkte so als würde man sich einen Arztbesuch in Zukunft sparen, er nimmt sich keine Zeit für den Patienten. Er ist völlig genervt und hat eine sehr agressive Art an sich. Zu dem sehr sympatisch! Sehr, sehr schade und schade!</td>\n",
              "    </tr>\n",
              "  </tbody>\n",
              "</table>\n",
              "</div>"
            ],
            "text/plain": [
              "                                                                                                                                                                                                                                                                                                                                                                                                                                                                                                                                                                                                            generated_text\n",
              "0                                                                                         <|review_neg|> Leider wird es hier keine Notwendigkeit geben, auf die Patienten einzugehen und das in einer für den Patienten sehr unangenehmen Praxisumgebung. Sehr distanzierte Praxisführung. Leider nur Tage auf den Kontrolltermin gewartet, daher eine Wartezeit von Stunden. Dies trifft jedoch in den nachfolgenden Behandlungsräumen zu. Ich hatte das Gefühl, mir wurde unnötig teure Leistungen an der Rezeption empfohlen, die nichts mit der jeweiligen Behandlung zu tun haben. Die Diagnose stimmte bisher nicht.\n",
              "1                                                               <|review_neg|> Die Praxis ist sehr schön und modern eingerichtet. Nachdem ich im Behandlungszimmer platz nehmen musste, habe ich mir sofort die Praxis ausgesucht. Ich musste keine min warten bei anderen Ärzten. Ich bin dann bei Dr. Behle reingegangen und sie hat sich sehr wenig Zeit genommen, hat kaum bis kaum zugehört und hat mir dann eine falsche Behandlung angeboten. Außerdem habe ich die Behandlung abgebrochen und kam um ein paar Tage später wieder zu ihr, da sie einfach die anderen Termine hatte. Ich werde nur noch dahin gehen.\n",
              "2                                                                                                                                                                             <|review_neg|> Ich war dort weil mein Allgemeinmediziner vor Monaten seine Praxis geschlossen hatte. Man hatte bei Frau Dr. Karabulut angefangen von ihrem Praxiskollegen an den Tag zu legen Sie ging nicht auf meine Beschwerden ein und versuchte die Untersuchung vorzunehmen. Dies war dann . Auf meine Fragen was denn nun das Thema sei sagte sie es sei alles in Ordnung nur zu dieser Person. Ich würde nicht noch einmal hingehen.\n",
              "3                                <|review_neg|> Dr. Bader machte auf mich einen kompetenten Eindruck ich hätte ihn darauf aufmerksam gemacht das er an einem Samstag zur Sprechstunde und um Uhr einen anderen Dienst hätte nehmen können. Auch nach einer Röntgenaufnahme, die wegen der Entzündung meines Armes nicht erfolgte, wurde nicht auf Beschwerden eingegangen und die Röntgenbilder wurden auch nicht gemacht. Mein Fazit Die Empfangsdame war etwas anderes als freundlich bis vor die Ärztin. Die Wartezeit war völlig in Ordnung aber trotz Termin über eine Stunde sind die Wartezeiten nicht zu ertragen.\n",
              "4  <|review_neg|> Wir waren zur Vorsorgeuntersuchung da und das mit großem Abstand am frühen Morgen. Am Schluss hat die Assistenzärztin leider kein gutes und gesundes Auge und das auch noch auf eine Kontrolle. Das ging so dann los dass alles sehr schnell ging. Wir hatten ein Gespräch mit dem Arzt während der Untersuchung und das erste was am Telefon erfragte wie es ihm ging und warum er etwas gefunden hat. Die Untersuchung wurde mir von der Ärztin mitgeteilt, dann wird der Befund nicht wahrgenommen! Sie will nicht wissen, wie er denn von ihrem Arzt zu erwarten wäre und dann würde er die Mutte...\n",
              "5                                                                                                                                                      <|review_neg|> Der erste Versuch hat angefangen, aber Herr Dr. Lammertz war nicht besonders einfühlsam. Er war sehr arrogant, hat kein Interesse daran zu reden, sondern nur einfach rein aus dem Behandlungszimmer zu fragen. Er wirkte so als würde man sich einen Arztbesuch in Zukunft sparen, er nimmt sich keine Zeit für den Patienten. Er ist völlig genervt und hat eine sehr agressive Art an sich. Zu dem sehr sympatisch! Sehr, sehr schade und schade!"
            ]
          },
          "metadata": {},
          "execution_count": 9
        }
      ]
    },
    {
      "cell_type": "markdown",
      "metadata": {
        "id": "rnqHWi9U0fnQ"
      },
      "source": [
        "### Low level control over text generation\n",
        "So far so good but sometimes you will need more control over how the text is being generated.\n",
        "\n"
      ]
    },
    {
      "cell_type": "markdown",
      "metadata": {
        "id": "1s8ock9e3x7S"
      },
      "source": [
        "#### Greedy search\n",
        "The following code can be used to generate text using a greedy search algorithm:"
      ]
    },
    {
      "cell_type": "code",
      "metadata": {
        "id": "Nw7I4kKh0OGJ",
        "outputId": "7f977d83-bfe0-4323-aa7c-fade7750f96c",
        "colab": {
          "base_uri": "https://localhost:8080/",
          "height": 176
        }
      },
      "source": [
        "# encode context the generation is conditioned on\n",
        "input_ids = tokenizer.encode(POS_TOKEN, return_tensors='tf')\n",
        "\n",
        "# generate text until the output length\n",
        "# (which includes the context length) reaches 50 \n",
        "greedy_outputs = model.generate(\n",
        "    input_ids, \n",
        "    max_length=50,\n",
        "    num_return_sequences=3,\n",
        "    )\n",
        "\n",
        "genrated_reviews = [{'generated_text': tokenizer.decode(output, skip_special_tokens=True)}\n",
        "                    for output in greedy_outputs]\n",
        "pd.DataFrame(genrated_reviews)"
      ],
      "execution_count": 10,
      "outputs": [
        {
          "output_type": "execute_result",
          "data": {
            "text/html": [
              "<div>\n",
              "<style scoped>\n",
              "    .dataframe tbody tr th:only-of-type {\n",
              "        vertical-align: middle;\n",
              "    }\n",
              "\n",
              "    .dataframe tbody tr th {\n",
              "        vertical-align: top;\n",
              "    }\n",
              "\n",
              "    .dataframe thead th {\n",
              "        text-align: right;\n",
              "    }\n",
              "</style>\n",
              "<table border=\"1\" class=\"dataframe\">\n",
              "  <thead>\n",
              "    <tr style=\"text-align: right;\">\n",
              "      <th></th>\n",
              "      <th>generated_text</th>\n",
              "    </tr>\n",
              "  </thead>\n",
              "  <tbody>\n",
              "    <tr>\n",
              "      <th>0</th>\n",
              "      <td>Ich hatte vor einem halben Jahr eine größere Sanierung, nach einem Jahr schmerzloser Behandlung kann jetzt schon ein Teil der Krone in,, abgeschlossen werden. Dr. Peter Wilck, dentscherer, kann ich nur für die hervorragende Leistung empfehlen.</td>\n",
              "    </tr>\n",
              "    <tr>\n",
              "      <th>1</th>\n",
              "      <td>Ich war schon mehrfach bei Dr. Hillenbrand und bin äußerst zufrieden. Er nimmt sich Zeit und ist auf alle Belange und Bedürfnisse sehr freundlich eingegangen. Dr. Hillenbrand hat sich auch ausreichend Zeit für Beratung und Untersuchung genommen und einen kompetenten</td>\n",
              "    </tr>\n",
              "    <tr>\n",
              "      <th>2</th>\n",
              "      <td>Ich bin heute auf die Hilfe von Frau Dr. Schulz gestoßen und bin seit ca. einem Jahr Patient in der Facharztklinik. Ich fühlte mich dort sehr gut aufgehoben und kann die Praxis empfehlen.</td>\n",
              "    </tr>\n",
              "  </tbody>\n",
              "</table>\n",
              "</div>"
            ],
            "text/plain": [
              "                                                                                                                                                                                                                                                                generated_text\n",
              "0                          Ich hatte vor einem halben Jahr eine größere Sanierung, nach einem Jahr schmerzloser Behandlung kann jetzt schon ein Teil der Krone in,, abgeschlossen werden. Dr. Peter Wilck, dentscherer, kann ich nur für die hervorragende Leistung empfehlen.\n",
              "1   Ich war schon mehrfach bei Dr. Hillenbrand und bin äußerst zufrieden. Er nimmt sich Zeit und ist auf alle Belange und Bedürfnisse sehr freundlich eingegangen. Dr. Hillenbrand hat sich auch ausreichend Zeit für Beratung und Untersuchung genommen und einen kompetenten\n",
              "2                                                                                  Ich bin heute auf die Hilfe von Frau Dr. Schulz gestoßen und bin seit ca. einem Jahr Patient in der Facharztklinik. Ich fühlte mich dort sehr gut aufgehoben und kann die Praxis empfehlen."
            ]
          },
          "metadata": {},
          "execution_count": 10
        }
      ]
    },
    {
      "cell_type": "markdown",
      "metadata": {
        "id": "IdKzZbwZ1_fP"
      },
      "source": [
        "#### Beam search \n",
        "Beam search can be considered as an alternative. At each step of generating a token, a set of top probability tokens are kept as part of the beam instead of just the highest-probability token. The sequence with the highest overall probability is returned at the end of the generation.\n",
        "\n",
        "What do the parameters `no_repeat_ngram_size` and `temperature` control?\n",
        "\n",
        "Generating text using beam search is done like this:"
      ]
    },
    {
      "cell_type": "code",
      "metadata": {
        "id": "gARjZeRd02rK",
        "outputId": "0f3f9632-8fbd-4de3-a7f3-8e53162a8460",
        "colab": {
          "base_uri": "https://localhost:8080/",
          "height": 142
        }
      },
      "source": [
        "beam_outputs = model.generate(\n",
        "    input_ids,\n",
        "    max_length=50,\n",
        "    num_beams=7,\n",
        "    no_repeat_ngram_size=3,\n",
        "    num_return_sequences=3,\n",
        "    early_stopping=True,\n",
        "    temperature=0.7\n",
        ")\n",
        "\n",
        "genrated_reviews = [{'generated_text': tokenizer.decode(output, skip_special_tokens=True)}\n",
        "                    for output in beam_outputs]\n",
        "pd.DataFrame(genrated_reviews)"
      ],
      "execution_count": 11,
      "outputs": [
        {
          "output_type": "execute_result",
          "data": {
            "text/html": [
              "<div>\n",
              "<style scoped>\n",
              "    .dataframe tbody tr th:only-of-type {\n",
              "        vertical-align: middle;\n",
              "    }\n",
              "\n",
              "    .dataframe tbody tr th {\n",
              "        vertical-align: top;\n",
              "    }\n",
              "\n",
              "    .dataframe thead th {\n",
              "        text-align: right;\n",
              "    }\n",
              "</style>\n",
              "<table border=\"1\" class=\"dataframe\">\n",
              "  <thead>\n",
              "    <tr style=\"text-align: right;\">\n",
              "      <th></th>\n",
              "      <th>generated_text</th>\n",
              "    </tr>\n",
              "  </thead>\n",
              "  <tbody>\n",
              "    <tr>\n",
              "      <th>0</th>\n",
              "      <td>Ich bin seit Jahren bei Frau Dr. Henze und fühle mich bei ihr sehr gut aufgehoben. Sie ist sehr kompetent und nimmt sich Zeit für ihre Patienten. Ich kann sie nur weiterempfehlen.</td>\n",
              "    </tr>\n",
              "    <tr>\n",
              "      <th>1</th>\n",
              "      <td>Ich bin seit Jahren bei Frau Dr. Henze und fühle mich bei ihr sehr gut aufgehoben. Sie ist sehr kompetent und nimmt sich Zeit für ihre Patienten. Ich kann sie nur weiterempfehlen.</td>\n",
              "    </tr>\n",
              "    <tr>\n",
              "      <th>2</th>\n",
              "      <td>Ich bin seit Jahren bei Frau Dr. Henze und fühle mich bei ihr sehr gut aufgehoben. Sie ist sehr kompetent und nimmt sich Zeit für ihre Patienten. Ich kann sie nur weiterempfehlen.</td>\n",
              "    </tr>\n",
              "  </tbody>\n",
              "</table>\n",
              "</div>"
            ],
            "text/plain": [
              "                                                                                                                                                                         generated_text\n",
              "0   Ich bin seit Jahren bei Frau Dr. Henze und fühle mich bei ihr sehr gut aufgehoben. Sie ist sehr kompetent und nimmt sich Zeit für ihre Patienten. Ich kann sie nur weiterempfehlen.\n",
              "1   Ich bin seit Jahren bei Frau Dr. Henze und fühle mich bei ihr sehr gut aufgehoben. Sie ist sehr kompetent und nimmt sich Zeit für ihre Patienten. Ich kann sie nur weiterempfehlen.\n",
              "2   Ich bin seit Jahren bei Frau Dr. Henze und fühle mich bei ihr sehr gut aufgehoben. Sie ist sehr kompetent und nimmt sich Zeit für ihre Patienten. Ich kann sie nur weiterempfehlen."
            ]
          },
          "metadata": {},
          "execution_count": 11
        }
      ]
    },
    {
      "cell_type": "code",
      "metadata": {
        "id": "lcPjWOS9Qw4P"
      },
      "source": [
        ""
      ],
      "execution_count": 11,
      "outputs": []
    }
  ]
}